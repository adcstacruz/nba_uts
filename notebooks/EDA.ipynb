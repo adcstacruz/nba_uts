{
 "cells": [
  {
   "cell_type": "code",
   "execution_count": 1,
   "id": "ac7cbd0d-faab-41eb-ba50-aa8d08f3dd2e",
   "metadata": {},
   "outputs": [],
   "source": [
    "%load_ext autoreload\n",
    "%autoreload 2"
   ]
  },
  {
   "cell_type": "code",
   "execution_count": 3,
   "id": "38518921-0895-4bde-af47-6b244a99a513",
   "metadata": {},
   "outputs": [],
   "source": [
    "import os\n",
    "\n",
    "import pandas as pd\n",
    "from pandas_profiling import ydata_profiling"
   ]
  },
  {
   "cell_type": "code",
   "execution_count": null,
   "id": "04b72f56-73b7-4aef-b84c-cba29d44e0f8",
   "metadata": {},
   "outputs": [],
   "source": []
  },
  {
   "cell_type": "code",
   "execution_count": null,
   "id": "49d48c58-7ce2-4af9-a52e-bc24c07f6840",
   "metadata": {},
   "outputs": [],
   "source": []
  },
  {
   "cell_type": "markdown",
   "id": "db03625a-7b82-45bd-a767-d5b52697c08f",
   "metadata": {},
   "source": [
    "## Load data"
   ]
  },
  {
   "cell_type": "code",
   "execution_count": null,
   "id": "69499d4a-9bdf-4313-8898-dfb7fbf9cc3a",
   "metadata": {},
   "outputs": [],
   "source": [
    "RAW_DATA_PATH = ''\n",
    "TRAINING_DATA_FILENAME = ''\n",
    "TEST_DATA_FILENAME = ''\n",
    "\n",
    "training_data_path = os.path.join()\n",
    "test_data_path = os.path.join()\n",
    "\n",
    "data_df = pd.read_csv()"
   ]
  }
 ],
 "metadata": {
  "kernelspec": {
   "display_name": "Python 3 (ipykernel)",
   "language": "python",
   "name": "python3"
  },
  "language_info": {
   "codemirror_mode": {
    "name": "ipython",
    "version": 3
   },
   "file_extension": ".py",
   "mimetype": "text/x-python",
   "name": "python",
   "nbconvert_exporter": "python",
   "pygments_lexer": "ipython3",
   "version": "3.11.4"
  }
 },
 "nbformat": 4,
 "nbformat_minor": 5
}
